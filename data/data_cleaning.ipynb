{
 "cells": [
  {
   "cell_type": "markdown",
   "metadata": {},
   "source": [
    "Empirical Application: Data Cleaning. This Jupyter notebook contains the Python code used to generate cleaned corn and soybean datasets.\n",
    "\n",
    "The inputs are three DTA (STATA) datasets from Schlenker and Roberts (PNAS, 2009): yieldData.dta, weather_corn.dta, and weather_soybeans.dta. These files can be found in the dataSTATA folder here: https://www.wolfram-schlenker.info/replicationFiles/SchlenkerRoberts2009.zip\n",
    "\n",
    "The output is two CSV files used subsequently in the data analysis: corn.csv and soybeans.csv\n",
    "\n",
    "The code was tested on Python v3.12.7."
   ]
  },
  {
   "cell_type": "code",
   "execution_count": 2,
   "metadata": {
    "executionInfo": {
     "elapsed": 1745,
     "status": "ok",
     "timestamp": 1718729871774,
     "user": {
      "displayName": "Ryan Borhani",
      "userId": "14128574912563601163"
     },
     "user_tz": -120
    },
    "id": "B3qlwHLItcmT"
   },
   "outputs": [],
   "source": [
    "# Create corn dataset\n",
    "import pandas as pd\n",
    "import numpy as np\n",
    "\n",
    "yields = pd.read_stata(\"/Users/ababii/Library/CloudStorage/Dropbox/SchlenkerRoberst2009/dataSTATA/yieldData.dta\")\n",
    "weather = pd.read_stata(\"/Users/ababii/Library/CloudStorage/Dropbox/SchlenkerRoberst2009/dataSTATA/weather_corn.dta\")\n",
    "\n",
    "# Treatment (aggregation) of weather data over seasons\n",
    "monthMin = 3\n",
    "monthMax = 8\n",
    "yearMin = 1950\n",
    "yearMax = 2020\n",
    "\n",
    "weather = weather[(weather['month'] >= monthMin) &\n",
    " (weather['month'] <= monthMax) & (weather['year'] >= yearMin) &\n",
    "  (weather['year'] <= yearMax)]\n",
    "\n",
    "weather = weather.groupby(['fips', 'year']).sum()\n",
    "weather = weather.filter(regex='^(time|dday|prec)')\n",
    "\n",
    "# Treatment of yields\n",
    "yiels = yields[['crop', 'fips', 'latitude', 'longitude', 'year', 'yield']]\n",
    "\n",
    "yields_corn = yields[(yields['crop'] == 'corn') & (yields['year'] >= yearMin) &\n",
    " (yields['year'] <= yearMax)]\n",
    "\n",
    "# Merging of the datasets and treatment\n",
    "merged_df = pd.merge(weather, yields_corn, on=['fips', 'year'])\n",
    "merged_df['logYield'] = np.log(merged_df['yield'])\n",
    "merged_df['state'] = (merged_df['fips'] // 1000).astype(int)\n",
    "merged_df['t'] = merged_df['year'] - yearMin\n",
    "merged_df['t2'] = merged_df['t'] ** 2\n",
    "merged_df['prec2'] = merged_df['prec'] ** 2\n",
    "\n",
    "# Creation of control variables\n",
    "dummies = pd.get_dummies(merged_df['state'], prefix='state')\n",
    "df = pd.concat([merged_df, dummies], axis=1)\n",
    "\n",
    "dummies = pd.get_dummies(df['fips'], prefix='fips')\n",
    "df = pd.concat([df, dummies], axis=1)\n",
    "\n",
    "for i in df['state'] :\n",
    "    nom_colonne_state = f'state_{i}'\n",
    "    nom_colonne_state_t = f'state_{i}_t'\n",
    "    df[nom_colonne_state_t] = df[nom_colonne_state] * df['t']\n",
    "\n",
    "    nom_colonne_state = f'state_{i}'\n",
    "    nom_colonne_state_t2 = f'state_{i}_t2'\n",
    "    df[nom_colonne_state_t2] = df[nom_colonne_state] * df['t2']\n",
    "    \n",
    "df = df.drop(columns = ['crop', 'longitude', 'latitude', 'yield', 'areaHarv', 't', 't2'])\n",
    "df.to_csv('/Users/ababii/Library/CloudStorage/Dropbox/SchlenkerRoberst2009/corn.csv', index=False)"
   ]
  },
  {
   "cell_type": "code",
   "execution_count": 3,
   "metadata": {},
   "outputs": [],
   "source": [
    "# Create soybean dataset\n",
    "weather = pd.read_stata(\"/Users/ababii/Library/CloudStorage/Dropbox/SchlenkerRoberst2009/dataSTATA/weather_soybeans.dta\")\n",
    "\n",
    "# Treatment (aggregation) of weather data over seasons\n",
    "weather = weather[(weather['month'] >= monthMin) &\n",
    " (weather['month'] <= monthMax) & (weather['year'] >= yearMin) &\n",
    "  (weather['year'] <= yearMax)]\n",
    "\n",
    "weather = weather.groupby(['fips', 'year']).sum()\n",
    "weather = weather.filter(regex='^(time|dday|prec)')\n",
    "\n",
    "# Treatment of yields\n",
    "yields_soybeans = yields[(yields['crop'] == 'soybeans') & (yields['year'] >= yearMin) &\n",
    " (yields['year'] <= yearMax)]\n",
    "\n",
    "# Merging of the datasets and treatment\n",
    "merged_df = pd.merge(weather, yields_soybeans, on=['fips', 'year'])\n",
    "merged_df['logYield'] = np.log(merged_df['yield'])\n",
    "merged_df['state'] = (merged_df['fips'] // 1000).astype(int)\n",
    "merged_df['t'] = merged_df['year'] - yearMin\n",
    "merged_df['t2'] = merged_df['t'] ** 2\n",
    "merged_df['prec2'] = merged_df['prec'] ** 2\n",
    "\n",
    "# Creation of control variables\n",
    "dummies = pd.get_dummies(merged_df['state'], prefix='state')\n",
    "df = pd.concat([merged_df, dummies], axis=1)\n",
    "\n",
    "dummies = pd.get_dummies(df['fips'], prefix='fips')\n",
    "df = pd.concat([df, dummies], axis=1)\n",
    "\n",
    "for i in df['state'] :\n",
    "    nom_colonne_state = f'state_{i}'\n",
    "    nom_colonne_state_t = f'state_{i}_t'\n",
    "    df[nom_colonne_state_t] = df[nom_colonne_state] * df['t']\n",
    "\n",
    "    nom_colonne_state = f'state_{i}'\n",
    "    nom_colonne_state_t2 = f'state_{i}_t2'\n",
    "    df[nom_colonne_state_t2] = df[nom_colonne_state] * df['t2']\n",
    "    \n",
    "df = df.drop(columns = ['crop', 'longitude', 'latitude', 'yield', 'areaHarv', 't', 't2'])\n",
    "df.to_csv('/Users/ababii/Library/CloudStorage/Dropbox/SchlenkerRoberst2009/soybeans.csv', index=False)"
   ]
  }
 ],
 "metadata": {
  "colab": {
   "authorship_tag": "ABX9TyPqLzoWJix9i8J/1405zhtj",
   "provenance": []
  },
  "kernelspec": {
   "display_name": "base",
   "language": "python",
   "name": "python3"
  },
  "language_info": {
   "codemirror_mode": {
    "name": "ipython",
    "version": 3
   },
   "file_extension": ".py",
   "mimetype": "text/x-python",
   "name": "python",
   "nbconvert_exporter": "python",
   "pygments_lexer": "ipython3",
   "version": "3.12.7"
  }
 },
 "nbformat": 4,
 "nbformat_minor": 4
}
